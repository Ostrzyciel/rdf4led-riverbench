{
 "cells": [
  {
   "cell_type": "code",
   "execution_count": 7,
   "id": "initial_id",
   "metadata": {
    "collapsed": true,
    "ExecuteTime": {
     "end_time": "2024-05-06T13:19:45.149847682Z",
     "start_time": "2024-05-06T13:19:45.106951316Z"
    }
   },
   "outputs": [],
   "source": [
    "import json\n",
    "import os\n",
    "\n",
    "import requests\n",
    "from rdflib import Graph, DCAT"
   ]
  },
  {
   "cell_type": "code",
   "execution_count": 8,
   "outputs": [],
   "source": [
    "# TODO: change to a stable version\n",
    "RIVERBENCH_VERSION = 'dev'\n",
    "RIVERBENCH_PROFILE = 'flat-triples'\n",
    "RIVERBENCH_BASE_URL = 'https://w3id.org/riverbench'\n",
    "\n",
    "ENGINES = [\n",
    "    'jena',\n",
    "    'rdf4j_native',\n",
    "    'rdf4j_lmdb',\n",
    "    'rdf4led',\n",
    "    'virtuoso',\n",
    "]"
   ],
   "metadata": {
    "collapsed": false,
    "ExecuteTime": {
     "end_time": "2024-05-06T13:21:31.210029462Z",
     "start_time": "2024-05-06T13:21:31.164232756Z"
    }
   },
   "id": "25b4794df184ee10"
  },
  {
   "cell_type": "code",
   "execution_count": 4,
   "outputs": [
    {
     "data": {
      "text/plain": "28"
     },
     "execution_count": 4,
     "metadata": {},
     "output_type": "execute_result"
    }
   ],
   "source": [
    "r = requests.get(\n",
    "    f'{RIVERBENCH_BASE_URL}/profiles/{RIVERBENCH_PROFILE}/{RIVERBENCH_VERSION}',\n",
    "    headers={'Accept': 'text/turtle'}\n",
    ")\n",
    "\n",
    "g = Graph()\n",
    "g.parse(data=r.text, format='turtle')\n",
    "len(g)"
   ],
   "metadata": {
    "collapsed": false,
    "ExecuteTime": {
     "end_time": "2024-05-06T13:18:16.733376423Z",
     "start_time": "2024-05-06T13:17:59.588508418Z"
    }
   },
   "id": "40084ce77de53fb8"
  },
  {
   "cell_type": "code",
   "execution_count": 5,
   "outputs": [
    {
     "name": "stdout",
     "output_type": "stream",
     "text": [
      "Using the following datasets:\n",
      " - muziekweb\n",
      " - lod-katrina\n",
      " - digital-agenda-indicators\n",
      " - citypulse-traffic\n",
      " - linked-spending\n",
      " - dbpedia-live\n",
      " - assist-iot-weather\n",
      " - politiquices\n"
     ]
    },
    {
     "name": "stderr",
     "output_type": "stream",
     "text": [
      "/tmp/ipykernel_26717/2223884633.py:1: UserWarning: Code: seriesMember is not defined in namespace DCAT\n",
      "  datasets = [str(o).split('/')[-2] for o in g.objects(predicate=DCAT.seriesMember, unique=True)]\n"
     ]
    }
   ],
   "source": [
    "datasets = [str(o).split('/')[-2] for o in g.objects(predicate=DCAT.seriesMember, unique=True)]\n",
    "\n",
    "print('Using the following datasets:')\n",
    "\n",
    "for dataset in datasets:\n",
    "    print(' - ' + str(dataset))"
   ],
   "metadata": {
    "collapsed": false,
    "ExecuteTime": {
     "end_time": "2024-05-06T13:18:32.493581139Z",
     "start_time": "2024-05-06T13:18:32.447649198Z"
    }
   },
   "id": "6133358c9af0a6a1"
  },
  {
   "cell_type": "code",
   "execution_count": 11,
   "outputs": [],
   "source": [
    "for dataset in datasets:\n",
    "    for engine in ENGINES:\n",
    "        os.makedirs('config', exist_ok=True)\n",
    "        with open(f'config/{engine}_{dataset}.json', 'w') as f:\n",
    "            json.dump(\n",
    "                {\n",
    "                    'path2Exp': '/exp/',\n",
    "                    'expType': 'INPUT',\n",
    "                    'dataset': dataset,\n",
    "                    'engine': engine,\n",
    "                    'dataSize': '',\n",
    "                    'device': 'any',\n",
    "                    'batchSize': 50_000,\n",
    "                },\n",
    "                f,\n",
    "                indent=4,\n",
    "            )"
   ],
   "metadata": {
    "collapsed": false,
    "ExecuteTime": {
     "end_time": "2024-05-06T13:44:22.392555791Z",
     "start_time": "2024-05-06T13:44:22.374659592Z"
    }
   },
   "id": "f8f94386bb384350"
  }
 ],
 "metadata": {
  "kernelspec": {
   "display_name": "Python 3",
   "language": "python",
   "name": "python3"
  },
  "language_info": {
   "codemirror_mode": {
    "name": "ipython",
    "version": 2
   },
   "file_extension": ".py",
   "mimetype": "text/x-python",
   "name": "python",
   "nbconvert_exporter": "python",
   "pygments_lexer": "ipython2",
   "version": "2.7.6"
  }
 },
 "nbformat": 4,
 "nbformat_minor": 5
}
