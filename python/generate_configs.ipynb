{
 "cells": [
  {
   "cell_type": "code",
   "id": "initial_id",
   "metadata": {
    "collapsed": true,
    "ExecuteTime": {
     "end_time": "2024-06-18T07:57:53.530240Z",
     "start_time": "2024-06-18T07:57:53.448794Z"
    }
   },
   "source": [
    "import json\n",
    "import os\n",
    "\n",
    "import requests\n",
    "from rdflib import Graph, DCAT"
   ],
   "outputs": [],
   "execution_count": 1
  },
  {
   "cell_type": "code",
   "source": [
    "RIVERBENCH_VERSION = '2.0.1'\n",
    "RIVERBENCH_PROFILE = 'flat-triples'\n",
    "RIVERBENCH_BASE_URL = 'https://w3id.org/riverbench'\n",
    "\n",
    "ENGINES = [\n",
    "    'jena',\n",
    "    'rdf4j_native',\n",
    "    'rdf4j_lmdb',\n",
    "    'rdf4led',\n",
    "    'virtuoso',\n",
    "]"
   ],
   "metadata": {
    "collapsed": false,
    "ExecuteTime": {
     "end_time": "2024-06-18T07:57:53.534370Z",
     "start_time": "2024-06-18T07:57:53.531455Z"
    }
   },
   "id": "25b4794df184ee10",
   "outputs": [],
   "execution_count": 2
  },
  {
   "cell_type": "code",
   "source": [
    "r = requests.get(\n",
    "    f'{RIVERBENCH_BASE_URL}/v/{RIVERBENCH_VERSION}/profiles/{RIVERBENCH_PROFILE}',\n",
    "    headers={'Accept': 'text/turtle'}\n",
    ")\n",
    "\n",
    "g = Graph()\n",
    "g.parse(data=r.text, format='turtle')\n",
    "len(g)"
   ],
   "metadata": {
    "collapsed": false,
    "ExecuteTime": {
     "end_time": "2024-06-18T07:58:12.476471Z",
     "start_time": "2024-06-18T07:57:54.789213Z"
    }
   },
   "id": "40084ce77de53fb8",
   "outputs": [
    {
     "data": {
      "text/plain": [
       "43"
      ]
     },
     "execution_count": 3,
     "metadata": {},
     "output_type": "execute_result"
    }
   ],
   "execution_count": 3
  },
  {
   "cell_type": "code",
   "source": [
    "datasets = [str(o).split('/')[-2] for o in g.objects(predicate=DCAT.seriesMember, unique=True)]\n",
    "\n",
    "print('Using the following datasets:')\n",
    "\n",
    "for dataset in datasets:\n",
    "    print(' - ' + str(dataset))"
   ],
   "metadata": {
    "collapsed": false,
    "ExecuteTime": {
     "end_time": "2024-06-18T07:58:18.457105Z",
     "start_time": "2024-06-18T07:58:18.449164Z"
    }
   },
   "id": "6133358c9af0a6a1",
   "outputs": [
    {
     "name": "stdout",
     "output_type": "stream",
     "text": [
      "Using the following datasets:\n",
      " - digital-agenda-indicators\n",
      " - politiquices\n",
      " - assist-iot-weather\n",
      " - lod-katrina\n",
      " - muziekweb\n",
      " - citypulse-traffic\n",
      " - dbpedia-live\n",
      " - linked-spending\n"
     ]
    },
    {
     "name": "stderr",
     "output_type": "stream",
     "text": [
      "/tmp/ipykernel_11637/2223884633.py:1: UserWarning: Code: seriesMember is not defined in namespace DCAT\n",
      "  datasets = [str(o).split('/')[-2] for o in g.objects(predicate=DCAT.seriesMember, unique=True)]\n"
     ]
    }
   ],
   "execution_count": 4
  },
  {
   "cell_type": "code",
   "source": [
    "for dataset in datasets:\n",
    "    for engine in ENGINES:\n",
    "        os.makedirs('config', exist_ok=True)\n",
    "        with open(f'config/{engine}_{dataset}.json', 'w') as f:\n",
    "            json.dump(\n",
    "                {\n",
    "                    'path2Exp': '/exp/',\n",
    "                    'expType': 'INPUT',\n",
    "                    'dataset': dataset,\n",
    "                    'engine': engine,\n",
    "                    'dataSize': '',\n",
    "                    'device': 'any',\n",
    "                    'batchSize': 50_000,\n",
    "                },\n",
    "                f,\n",
    "                indent=4,\n",
    "            )"
   ],
   "metadata": {
    "collapsed": false,
    "ExecuteTime": {
     "end_time": "2024-06-18T07:58:22.812141Z",
     "start_time": "2024-06-18T07:58:22.799285Z"
    }
   },
   "id": "f8f94386bb384350",
   "outputs": [],
   "execution_count": 5
  }
 ],
 "metadata": {
  "kernelspec": {
   "display_name": "Python 3",
   "language": "python",
   "name": "python3"
  },
  "language_info": {
   "codemirror_mode": {
    "name": "ipython",
    "version": 2
   },
   "file_extension": ".py",
   "mimetype": "text/x-python",
   "name": "python",
   "nbconvert_exporter": "python",
   "pygments_lexer": "ipython2",
   "version": "2.7.6"
  }
 },
 "nbformat": 4,
 "nbformat_minor": 5
}
