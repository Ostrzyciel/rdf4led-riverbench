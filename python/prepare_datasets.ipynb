{
 "cells": [
  {
   "cell_type": "code",
   "execution_count": 1,
   "id": "initial_id",
   "metadata": {
    "collapsed": true,
    "ExecuteTime": {
     "end_time": "2024-05-06T13:59:23.991494523Z",
     "start_time": "2024-05-06T13:59:23.891654492Z"
    }
   },
   "outputs": [],
   "source": [
    "import gzip\n",
    "import os\n",
    "\n",
    "import requests\n",
    "from rdflib import Graph, DCAT"
   ]
  },
  {
   "cell_type": "code",
   "execution_count": 2,
   "outputs": [],
   "source": [
    "# TODO: change to a stable version\n",
    "RIVERBENCH_VERSION = 'dev'\n",
    "RIVERBENCH_PROFILE = 'flat-triples'\n",
    "RIVERBENCH_BASE_URL = 'https://w3id.org/riverbench'\n",
    "\n",
    "BATCH_SIZE = 50_000"
   ],
   "metadata": {
    "collapsed": false,
    "ExecuteTime": {
     "end_time": "2024-05-06T13:59:24.033126942Z",
     "start_time": "2024-05-06T13:59:24.030124902Z"
    }
   },
   "id": "bf7e96a1301d2403"
  },
  {
   "cell_type": "code",
   "execution_count": 3,
   "outputs": [
    {
     "data": {
      "text/plain": "28"
     },
     "execution_count": 3,
     "metadata": {},
     "output_type": "execute_result"
    }
   ],
   "source": [
    "r = requests.get(\n",
    "    f'{RIVERBENCH_BASE_URL}/profiles/{RIVERBENCH_PROFILE}/{RIVERBENCH_VERSION}',\n",
    "    headers={'Accept': 'text/turtle'}\n",
    ")\n",
    "\n",
    "g = Graph()\n",
    "g.parse(data=r.text, format='turtle')\n",
    "len(g)"
   ],
   "metadata": {
    "collapsed": false,
    "ExecuteTime": {
     "end_time": "2024-05-06T13:59:41.674824499Z",
     "start_time": "2024-05-06T13:59:24.032976155Z"
    }
   },
   "id": "40fc9bb534376170"
  },
  {
   "cell_type": "code",
   "execution_count": 4,
   "outputs": [
    {
     "name": "stdout",
     "output_type": "stream",
     "text": [
      "Using the following datasets:\n",
      " - https://w3id.org/riverbench/datasets/muziekweb/dev\n",
      " - https://w3id.org/riverbench/datasets/lod-katrina/dev\n",
      " - https://w3id.org/riverbench/datasets/digital-agenda-indicators/dev\n",
      " - https://w3id.org/riverbench/datasets/citypulse-traffic/dev\n",
      " - https://w3id.org/riverbench/datasets/linked-spending/dev\n",
      " - https://w3id.org/riverbench/datasets/dbpedia-live/dev\n",
      " - https://w3id.org/riverbench/datasets/assist-iot-weather/dev\n",
      " - https://w3id.org/riverbench/datasets/politiquices/dev\n"
     ]
    },
    {
     "name": "stderr",
     "output_type": "stream",
     "text": [
      "/tmp/ipykernel_29210/4168361440.py:1: UserWarning: Code: seriesMember is not defined in namespace DCAT\n",
      "  datasets = list(g.objects(predicate=DCAT.seriesMember, unique=True))\n"
     ]
    }
   ],
   "source": [
    "datasets = list(g.objects(predicate=DCAT.seriesMember, unique=True))\n",
    "\n",
    "print('Using the following datasets:')\n",
    "\n",
    "for dataset in datasets:\n",
    "    print(' - ' + str(dataset))"
   ],
   "metadata": {
    "collapsed": false,
    "ExecuteTime": {
     "end_time": "2024-05-06T13:59:41.678584522Z",
     "start_time": "2024-05-06T13:59:41.669126810Z"
    }
   },
   "id": "82de131a1354b02c"
  },
  {
   "cell_type": "code",
   "execution_count": 8,
   "outputs": [
    {
     "name": "stdout",
     "output_type": "stream",
     "text": [
      "Fetching muziekweb...\n",
      "  Already fetched\n",
      "\n",
      "Fetching lod-katrina...\n",
      "  Batch 00000\n",
      "  Batch 00050\n"
     ]
    },
    {
     "ename": "KeyboardInterrupt",
     "evalue": "",
     "output_type": "error",
     "traceback": [
      "\u001B[0;31m---------------------------------------------------------------------------\u001B[0m",
      "\u001B[0;31mKeyboardInterrupt\u001B[0m                         Traceback (most recent call last)",
      "Cell \u001B[0;32mIn[8], line 34\u001B[0m\n\u001B[1;32m     32\u001B[0m     \u001B[38;5;28;01mif\u001B[39;00m \u001B[38;5;129;01mnot\u001B[39;00m line:\n\u001B[1;32m     33\u001B[0m         \u001B[38;5;28;01mbreak\u001B[39;00m\n\u001B[0;32m---> 34\u001B[0m     out_f\u001B[38;5;241m.\u001B[39mwrite(line)\n\u001B[1;32m     35\u001B[0m     counter \u001B[38;5;241m+\u001B[39m\u001B[38;5;241m=\u001B[39m \u001B[38;5;241m1\u001B[39m\n\u001B[1;32m     37\u001B[0m out_f\u001B[38;5;241m.\u001B[39mclose()\n",
      "\u001B[0;31mKeyboardInterrupt\u001B[0m: "
     ]
    }
   ],
   "source": [
    "for dataset in datasets:\n",
    "    dataset_name = str(dataset.split(\"/\")[-2])\n",
    "    print(f'Fetching {dataset_name}...')\n",
    "    \n",
    "    try:\n",
    "        if os.stat(f'data/{dataset_name}').st_size > 0:\n",
    "            print('  Already fetched')\n",
    "            print()\n",
    "            continue\n",
    "    except:\n",
    "        pass\n",
    "    \n",
    "    r = requests.get(\n",
    "        str(dataset) + '/files/flat_full.nt.gz', \n",
    "        stream=True,\n",
    "    )\n",
    "    gzip_file = gzip.GzipFile(fileobj=r.raw)\n",
    "    counter = 0\n",
    "    os.makedirs(f'data/{dataset_name}', exist_ok=True)\n",
    "    out_f = None\n",
    "    \n",
    "    while True:\n",
    "        if counter % BATCH_SIZE == 0:\n",
    "            f_name = f'{counter // BATCH_SIZE:05d}'\n",
    "            if (counter // BATCH_SIZE) % 50 == 0:\n",
    "                print(f'  Batch {f_name}')\n",
    "            \n",
    "            if out_f:\n",
    "                out_f.close()\n",
    "            out_f = open(f'data/{dataset_name}/{f_name}.nt', 'wb')\n",
    "        line = gzip_file.readline()\n",
    "        if not line:\n",
    "            break\n",
    "        out_f.write(line)\n",
    "        counter += 1\n",
    "        \n",
    "    out_f.close()\n",
    "    print(f'  Fetched {counter} triples')\n",
    "    if counter % BATCH_SIZE != 0:\n",
    "        print('  Removing last batch...')\n",
    "        os.remove(f'data/{dataset_name}/{counter // BATCH_SIZE:05d}.nt')\n",
    "    print('  Done')\n",
    "    print()"
   ],
   "metadata": {
    "collapsed": false,
    "ExecuteTime": {
     "end_time": "2024-05-06T14:02:25.750028943Z",
     "start_time": "2024-05-06T14:01:59.555069434Z"
    }
   },
   "id": "ed6254a722f5ee6"
  },
  {
   "cell_type": "code",
   "execution_count": null,
   "outputs": [],
   "source": [],
   "metadata": {
    "collapsed": false
   },
   "id": "53283bfd49c8584c"
  }
 ],
 "metadata": {
  "kernelspec": {
   "display_name": "Python 3",
   "language": "python",
   "name": "python3"
  },
  "language_info": {
   "codemirror_mode": {
    "name": "ipython",
    "version": 2
   },
   "file_extension": ".py",
   "mimetype": "text/x-python",
   "name": "python",
   "nbconvert_exporter": "python",
   "pygments_lexer": "ipython2",
   "version": "2.7.6"
  }
 },
 "nbformat": 4,
 "nbformat_minor": 5
}
